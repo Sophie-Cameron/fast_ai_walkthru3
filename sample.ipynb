{
 "cells": [
  {
   "cell_type": "markdown",
   "id": "96c8d03b-e40a-40c3-a98f-bb0ba5612e66",
   "metadata": {},
   "source": [
    "# Walkthrough sample "
   ]
  },
  {
   "cell_type": "code",
   "execution_count": 1,
   "id": "73d5bc66-874d-49a6-b307-f039800cbee7",
   "metadata": {},
   "outputs": [
    {
     "data": {
      "text/plain": [
       "2"
      ]
     },
     "execution_count": 1,
     "metadata": {},
     "output_type": "execute_result"
    }
   ],
   "source": [
    "1+1"
   ]
  },
  {
   "cell_type": "markdown",
   "id": "e2b34100-46a8-4960-b4e5-f471a6a08f7d",
   "metadata": {},
   "source": [
    "Here's some text"
   ]
  },
  {
   "cell_type": "code",
   "execution_count": null,
   "id": "d050c59c-8283-4ba6-ae84-7d199b554e80",
   "metadata": {},
   "outputs": [],
   "source": []
  }
 ],
 "metadata": {
  "kernelspec": {
   "display_name": "Python 3 (ipykernel)",
   "language": "python",
   "name": "python3"
  },
  "language_info": {
   "codemirror_mode": {
    "name": "ipython",
    "version": 3
   },
   "file_extension": ".py",
   "mimetype": "text/x-python",
   "name": "python",
   "nbconvert_exporter": "python",
   "pygments_lexer": "ipython3",
   "version": "3.9.10"
  }
 },
 "nbformat": 4,
 "nbformat_minor": 5
}
